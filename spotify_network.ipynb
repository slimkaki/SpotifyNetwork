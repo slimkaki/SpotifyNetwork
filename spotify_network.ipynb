{
 "cells": [
  {
   "cell_type": "markdown",
   "metadata": {},
   "source": [
    "# Spotify Network\n",
    "___"
   ]
  },
  {
   "cell_type": "markdown",
   "metadata": {},
   "source": [
    "**Ideias:**\n",
    "- Queremos analisar se as colaborações dos artistas tendem a permanecer dentro de sua própria bolha/hub.\n",
    "- Se um artista furar a bolha, fazendo um feat com alguém externo, a tendência é aumentar o sucesso da música ou diminuir?\n",
    "\n",
    "_O que explica um artista se manter no topo?_\n",
    "\n",
    "    - Freq. de lançamento de músicas?\n",
    "    - Número de feats nas músicas\n",
    "    - Público muito fiel\n",
    "    - Proximidade de artistas que também estão no topo\n",
    "    \n",
    "    > Por que antigamente tinham menos feats e um público extremamente fiel?\n",
    "    "
   ]
  },
  {
   "cell_type": "markdown",
   "metadata": {},
   "source": [
    "### Pergunta final:\n",
    "**P:** _É perceptível que as músicas atuais possuem muitas colaborações, um número bem maior que nas décadas passadas. Por que houve essa mudança e isso é relacionado com a longevidade do artista no mercado?_\n",
    "\n",
    "_Hipótese Nula:_ Ter mais colaborações, seja no hub do artista, seja com artistas de outros gêneros musicais, impulsiona sim o artista."
   ]
  },
  {
   "cell_type": "markdown",
   "metadata": {},
   "source": [
    "Links úteis:\n",
    "\n",
    "- https://link.springer.com/article/10.1007/s11002-018-9476-3\n",
    "- https://news.distrokid.com/the-rise-of-collaborations-in-todays-music-8a8bcd386ea"
   ]
  },
  {
   "cell_type": "markdown",
   "metadata": {},
   "source": [
    "___\n",
    "### Extraindo os dados da API"
   ]
  },
  {
   "cell_type": "code",
   "execution_count": null,
   "metadata": {},
   "outputs": [],
   "source": []
  },
  {
   "cell_type": "code",
   "execution_count": null,
   "metadata": {},
   "outputs": [],
   "source": []
  }
 ],
 "metadata": {
  "kernelspec": {
   "display_name": "Python 3",
   "language": "python",
   "name": "python3"
  },
  "language_info": {
   "codemirror_mode": {
    "name": "ipython",
    "version": 3
   },
   "file_extension": ".py",
   "mimetype": "text/x-python",
   "name": "python",
   "nbconvert_exporter": "python",
   "pygments_lexer": "ipython3",
   "version": "3.8.5"
  }
 },
 "nbformat": 4,
 "nbformat_minor": 4
}
